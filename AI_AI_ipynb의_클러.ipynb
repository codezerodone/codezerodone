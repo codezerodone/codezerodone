{
  "nbformat": 4,
  "nbformat_minor": 0,
  "metadata": {
    "colab": {
      "name": "AI_AI.ipynb의 클러",
      "provenance": [],
      "private_outputs": true,
      "collapsed_sections": [],
      "include_colab_link": true
    },
    "kernelspec": {
      "name": "python3",
      "display_name": "Python 3"
    },
    "language_info": {
      "name": "python"
    },
    "accelerator": "GPU"
  },
  "cells": [
    {
      "cell_type": "markdown",
      "metadata": {
        "id": "view-in-github",
        "colab_type": "text"
      },
      "source": [
        "<a href=\"https://colab.research.google.com/github/codezerodone/codezerodone/blob/main/AI_AI_ipynb%EC%9D%98_%ED%81%B4%EB%9F%AC.ipynb\" target=\"_parent\"><img src=\"https://colab.research.google.com/assets/colab-badge.svg\" alt=\"Open In Colab\"/></a>"
      ]
    },
    {
      "cell_type": "code",
      "execution_count": null,
      "metadata": {
        "id": "vZQJBs48W81q"
      },
      "outputs": [],
      "source": [
        "import tensorflow as tf\n",
        "import matplotlib.pyplot as plt\n",
        "from tensorflow import keras\n",
        "from keras.datasets import cifar10\n",
        "from keras.models import Sequential, Model \n",
        "from keras.layers import Dense, Dropout, Flatten, Input, Conv2D, MaxPool2D, BatchNormalization , Activation, ReLU\n",
        "from keras.layers import Input, Dense, AveragePooling2D, GlobalAveragePooling2D\n",
        "from keras import datasets, layers, models, losses\n",
        "from keras.utils import np_utils\n",
        "from keras import backend as K\n",
        "import time\n",
        "import cv2\n",
        "import numpy as np"
      ]
    },
    {
      "cell_type": "code",
      "source": [
        "(x_train, y_train), (x_test, y_test) = cifar10.load_data()"
      ],
      "metadata": {
        "id": "qyByAf8LXbpr"
      },
      "execution_count": null,
      "outputs": []
    },
    {
      "cell_type": "code",
      "source": [
        "x_train = x_train / 255.0 \n",
        "x_test = x_test / 255.0"
      ],
      "metadata": {
        "id": "Braz_Ew8XoXg"
      },
      "execution_count": null,
      "outputs": []
    },
    {
      "cell_type": "code",
      "source": [
        "x_test.shape, y_test.shape"
      ],
      "metadata": {
        "id": "rIcqCc5lXvSP"
      },
      "execution_count": null,
      "outputs": []
    },
    {
      "cell_type": "code",
      "source": [
        "y_train.shape, x_train.shape"
      ],
      "metadata": {
        "id": "P2PruN9AoUEZ"
      },
      "execution_count": null,
      "outputs": []
    },
    {
      "cell_type": "code",
      "source": [
        "y_train = y_train.reshape(-1,)"
      ],
      "metadata": {
        "id": "SiEdqBG4DMxh"
      },
      "execution_count": null,
      "outputs": []
    },
    {
      "cell_type": "code",
      "source": [
        "#x_train"
      ],
      "metadata": {
        "id": "RrYhpmJlYCmQ"
      },
      "execution_count": null,
      "outputs": []
    },
    {
      "cell_type": "code",
      "source": [
        "#y_train"
      ],
      "metadata": {
        "id": "KuoCNNomYEYf"
      },
      "execution_count": null,
      "outputs": []
    },
    {
      "cell_type": "code",
      "source": [
        "fig = plt.figure()\n",
        "ax1 = fig.add_subplot(1, 3, 1)\n",
        "ax2 = fig.add_subplot(1, 3, 2)\n",
        "ax3 = fig.add_subplot(1, 3, 3)\n",
        "\n",
        "ax1.imshow(x_train[0])\n",
        "ax2.imshow(x_train[1])\n",
        "ax3.imshow(x_train[2])\n",
        "plt.show()"
      ],
      "metadata": {
        "id": "8anpKAW4YPFl"
      },
      "execution_count": null,
      "outputs": []
    },
    {
      "cell_type": "code",
      "source": [
        "print(y_train[:9])"
      ],
      "metadata": {
        "id": "jQAdsGVdYd0o"
      },
      "execution_count": null,
      "outputs": []
    },
    {
      "cell_type": "code",
      "source": [
        "classes = [\"airplane\",\"automobile\",\"bird\",\"cat\",\"deer\",\"dog\",\"frog\",\"horse\",\"ship\",\"truck\"]"
      ],
      "metadata": {
        "id": "g2RqTbOlGs3T"
      },
      "execution_count": null,
      "outputs": []
    },
    {
      "cell_type": "markdown",
      "source": [
        "airplane\t\t\t\t1\t\t\t\t\t\t\n",
        "automobile\t\t\t2\t\t\t\t\t\t\t\n",
        "bird\t\t\t\t\t\t3\t\t\t\t\n",
        "cat\t\t\t\t\t\t\t4\t\t\t\n",
        "deer\t\t\t\t\t\t5\t\t\t\t\n",
        "dog\t\t\t\t\t\t\t6\t\t\t\n",
        "frog\t\t\t\t\t\t7\t\t\t\t\n",
        "horse\t\t\t\t\t\t8\t\t\t\t\n",
        "ship\t\t\t\t\t\t9\t\t\t\t\n",
        "truck           10"
      ],
      "metadata": {
        "id": "Kv-fJ7KxYl7S"
      }
    },
    {
      "cell_type": "code",
      "source": [
        "#model = models.Sequential([\n",
        "#    layers.Conv2D(filters=32, kernel_size=(3, 3), activation='relu', input_shape=(32, 32, 3)),\n",
        "#    layers.MaxPooling2D((2, 2)),\n",
        "    \n",
        "#    layers.Conv2D(filters=64, kernel_size=(3, 3), activation='relu'),\n",
        "#    layers.MaxPooling2D((2, 2)),\n",
        "    \n",
        "#    layers.Flatten(),\n",
        "#    layers.Dense(64, activation='relu'),\n",
        "#    layers.Dense(10, activation='softmax')\n",
        "#])"
      ],
      "metadata": {
        "id": "ML9SQFNCArmb"
      },
      "execution_count": null,
      "outputs": []
    },
    {
      "cell_type": "code",
      "source": [
        "model = Sequential()\n",
        "model.add(Conv2D(64, 3, strides= 1, padding='same', input_shape=x_train.shape[1:]))\n",
        "model.add(BatchNormalization())\n",
        "model.add(Activation(activation='relu'))\n",
        "model.add(Conv2D(64, 3, strides= 1, padding='same'))\n",
        "model.add(BatchNormalization())\n",
        "model.add(Activation(activation='relu'))\n",
        "model.add(MaxPool2D((2,2), strides=2))\n",
        "\n",
        "model.add(Conv2D(128, 3, strides=1, padding='same'))\n",
        "model.add(BatchNormalization())\n",
        "model.add(Activation(activation='relu'))\n",
        "model.add(Conv2D(128, 3, strides=1, padding='same'))\n",
        "model.add(BatchNormalization())\n",
        "model.add(Activation(activation='relu'))\n",
        "model.add(MaxPool2D((2, 2), strides=2))\n",
        "\n",
        "model.add(Conv2D(256, 3, strides=1, padding='same'))\n",
        "model.add(BatchNormalization())\n",
        "model.add(Activation(activation='relu'))\n",
        "model.add(Conv2D(256, 3, strides=1, padding='same'))\n",
        "model.add(BatchNormalization())\n",
        "model.add(Activation(activation='relu'))\n",
        "model.add(Conv2D(256, 3, strides=1, padding='same'))\n",
        "model.add(BatchNormalization())\n",
        "model.add(Activation(activation='relu'))\n",
        "model.add(MaxPool2D((2, 2), strides=2))\n",
        "model.add(MaxPool2D((2, 2), strides=2))\n",
        "\n",
        "model.add(Flatten())\n",
        "model.add(Dense(2048, activation='relu'))\n",
        "model.add(Dropout(0.5))\n",
        "model.add(Dense(2048, activation='relu'))\n",
        "model.add(Dropout(0.5))\n",
        "model.add(Dense(10, activation='softmax'))"
      ],
      "metadata": {
        "id": "-L6yehBGPI6L"
      },
      "execution_count": null,
      "outputs": []
    },
    {
      "cell_type": "code",
      "source": [
        "model.summary()"
      ],
      "metadata": {
        "id": "NBoNp-SwAtlC"
      },
      "execution_count": null,
      "outputs": []
    },
    {
      "cell_type": "code",
      "source": [
        "# 배치 사이즈 & 사용할 optimizer, loss funtion, 평가 메트릭\n",
        "#batch_size = 64\n",
        "#model.compile(optimizer='adam',\n",
        "#              loss='sparse_categorical_crossentropy',\n",
        "#              metrics=['accuracy'])"
      ],
      "metadata": {
        "id": "smgx2zSpkpI-"
      },
      "execution_count": null,
      "outputs": []
    },
    {
      "cell_type": "code",
      "source": [
        "#model.compile(optimizer='nadam',\n",
        " #             loss='sparse_categorical_crossentropy',\n",
        " #             metrics=['accuracy'])"
      ],
      "metadata": {
        "id": "4Czv7zF3xiel"
      },
      "execution_count": null,
      "outputs": []
    },
    {
      "cell_type": "code",
      "source": [
        "model.compile(optimizer='adam',\n",
        "              loss='sparse_categorical_crossentropy',\n",
        "              metrics=['accuracy'])"
      ],
      "metadata": {
        "id": "ClfXjB2aq7_F"
      },
      "execution_count": null,
      "outputs": []
    },
    {
      "cell_type": "code",
      "source": [
        "# Training / Evaluation\n",
        "history = model.fit(x_train, y_train, epochs=30, validation_data=(x_test, y_test))"
      ],
      "metadata": {
        "id": "wfT4VaussWmj"
      },
      "execution_count": null,
      "outputs": []
    },
    {
      "cell_type": "code",
      "source": [
        "plt.plot(history.history['accuracy'])\n",
        "plt.plot(history.history['val_accuracy'])\n",
        "plt.title('Model accuracy')\n",
        "plt.xlabel('Epoch')\n",
        "plt.ylabel('Accuracy')\n",
        "plt.legend(['Train', 'Test'], loc='upper left')\n",
        "plt.show()\n",
        "\n",
        "# 7 훈련 과정 시각화 (손실)\n",
        "plt.plot(history.history['loss'])\n",
        "plt.plot(history.history['val_loss'])\n",
        "plt.title('Model loss')\n",
        "plt.xlabel('Epoch')\n",
        "plt.ylabel('Loss')\n",
        "plt.legend(['Train', 'Valid'], loc='upper left')\n",
        "plt.show()"
      ],
      "metadata": {
        "id": "mzXcg0JPfFu_"
      },
      "execution_count": null,
      "outputs": []
    },
    {
      "cell_type": "code",
      "source": [
        "# Training / Evaluation\n",
        "#history = model.fit(x_train, y_train,batch_size=128, epochs=50,verbose=1, validation_data=(x_test, y_test))"
      ],
      "metadata": {
        "id": "TZ49ItjZktFe"
      },
      "execution_count": null,
      "outputs": []
    },
    {
      "cell_type": "code",
      "source": [
        "#test_loss, test_acc = model.evaluate(x_test, y_test, verbose=2)\n",
        "#print(\"\\nTest Accuracy :\", test_acc)\n",
        "#print(\"Test Loss : \", test_loss)"
      ],
      "metadata": {
        "id": "diRHFuBPJd2R"
      },
      "execution_count": null,
      "outputs": []
    },
    {
      "cell_type": "code",
      "source": [
        "from keras import models\n",
        "from keras.models import Model \n",
        "import pandas as pd\n",
        "import seaborn as sns\n",
        "\n",
        "\n",
        "feat_extractor = Model(inputs=model.input,outputs=model.get_layer('dense_2').output) \n",
        "features = feat_extractor.predict(x_test, batch_size=128)\n",
        "from sklearn.manifold import TSNE\n",
        "tsne = TSNE(n_components=2).fit_transform(features)\n",
        "tx, ty = tsne[:,0], tsne[:,1]\n",
        "tx = (tx-np.min(tx)) / (np.max(tx) - np.min(tx))\n",
        "ty = (ty-np.min(ty)) / (np.max(ty) - np.min(ty))\n",
        "\n",
        "df = pd.DataFrame()\n",
        "df[\"y\"] = y_test[:,0]\n",
        "df[\"comp-1\"]=tx\n",
        "df[\"comp-2\"]=ty\n",
        "\n",
        "sns.scatterplot(x=\"comp-1\", y=\"comp-2\", hue=df.y.tolist(),\n",
        "                palette=sns.color_palette(\"hls\", 10),\n",
        "                data=df).set(title=\"Iris data T-SNE projection\")"
      ],
      "metadata": {
        "id": "NsIGdTpx0z5D"
      },
      "execution_count": null,
      "outputs": []
    },
    {
      "cell_type": "code",
      "source": [
        "#tx.shape\n",
        "ty.shape\n",
        "#tsne.shape"
      ],
      "metadata": {
        "id": "xpzxmCoY3IkL"
      },
      "execution_count": null,
      "outputs": []
    },
    {
      "cell_type": "code",
      "source": [
        "print(ty)"
      ],
      "metadata": {
        "id": "Vu3i1VXcSOW-"
      },
      "execution_count": null,
      "outputs": []
    },
    {
      "cell_type": "code",
      "source": [
        "from sklearn.datasets import load_iris\n",
        "from sklearn.cluster import KMeans\n",
        "\n",
        "import matplotlib.pyplot as plt\n",
        "import numpy as np\n",
        "import pandas as pd\n",
        "%matplotlib inline\n",
        "# K-means에 사용할 데이터 데이터프레임으로 만들기\n",
        "cluster_df = pd.DataFrame(data=tsne, columns=['tx','ty'])\n",
        "X_aniso = tsne\n",
        "# 1.K-means 할당\n",
        "k_means = KMeans(n_clusters=10, init='k-means++', max_iter=200, random_state=12)\n",
        "    # X는 cluster_df의 feature array임.\n",
        "cluster_labels = k_means.fit_predict(X_aniso)\n",
        "k_means_labels = k_means.labels_\n",
        "print('k_means_labels : ', k_means_labels)\n",
        "\n",
        "k_means_cluster_centers = k_means.cluster_centers_\n",
        "print('k_means_cluster_centers : ', k_means_cluster_centers)\n"
      ],
      "metadata": {
        "id": "QPAKN4E70z-5"
      },
      "execution_count": null,
      "outputs": []
    },
    {
      "cell_type": "code",
      "source": [
        "# 지정된 크기로 초기화\n",
        "fig = plt.figure(figsize=(6, 4))\n",
        "\n",
        "# 레이블 수에 따라 색상 배열 생성, 고유한 색상을 얻기 위해 set(k_means_labels) 설정\n",
        "colors = plt.cm.Spectral(np.linspace(0, 1, len(set(k_means_labels))))\n",
        "\n",
        "# plot 생성\n",
        "ax = fig.add_subplot(1, 1, 1)\n",
        "\n",
        "for k, col in zip(range(10), colors):\n",
        "    my_members = (k_means_labels == k)\n",
        "\n",
        "    # 중심 정의\n",
        "    cluster_center = k_means_cluster_centers[k]\n",
        "\n",
        "    # 중심 그리기\n",
        "    ax.plot(X_aniso[my_members, 0], X_aniso[my_members, 1], 'w', markerfacecolor=col, marker='.')\n",
        "    ax.plot(cluster_center[0], cluster_center[1], 'o', markerfacecolor=col, markeredgecolor='k', markersize=6)\n",
        "\n",
        "ax.set_title('K-Means')\n",
        "ax.set_xticks(())\n",
        "ax.set_yticks(())\n",
        "plt.show()\n"
      ],
      "metadata": {
        "id": "zpC0-VoyVr-t"
      },
      "execution_count": null,
      "outputs": []
    },
    {
      "cell_type": "code",
      "source": [
        "\n",
        "from sklearn.mixture import GaussianMixture\n",
        "gmm = GaussianMixture(n_components=10, random_state=0)\n",
        "gmm_label = gmm.fit_predict(X_aniso)\n",
        "\n",
        "# 군집 레이블 추가\n",
        "cluster_df[\"gmm_label\"] = gmm_label\n",
        "\n",
        "# GMM은 cluster_centers_ 속성이 없음\n",
        "\n",
        "fig = plt.figure(figsize=(8, 8))\n",
        "\n",
        "# 레이블 수에 따라 색상 배열 생성, 고유한 색상을 얻기 위해 set(k_means_labels) 설정\n",
        "colors = plt.cm.Spectral(np.linspace(0, 1, len(set(gmm_label))))\n",
        "\n",
        "# plot 생성\n",
        "ax = fig.add_subplot(1, 1, 1)\n",
        "for k, col in zip(range(10), colors):\n",
        "    my_members = (gmm_label == k)\n",
        "\n",
        "    # 중심 정의\n",
        "    cluster_center = k_means_cluster_centers[k]\n",
        "\n",
        "    # 중심 그리기\n",
        "    ax.plot(X_aniso[my_members, 0], X_aniso[my_members, 1], 'w', markerfacecolor=col, marker='.')\n",
        "    ax.plot(cluster_center[0], cluster_center[1], 'o', markerfacecolor=col, markeredgecolor='k', markersize=6)\n",
        "\n",
        "ax.set_title('GMM')\n",
        "ax.set_xticks(())\n",
        "ax.set_yticks(())\n",
        "plt.show()"
      ],
      "metadata": {
        "id": "Xm1kgRE8a8i1"
      },
      "execution_count": null,
      "outputs": []
    },
    {
      "cell_type": "code",
      "source": [
        "def visualize_cluster_plot(clusterobj, dataframe, label_name, iscenter=True):\n",
        "    \n",
        "    # 군집별 중심 위치: K-Means, Mean Shift 등\n",
        "    if iscenter:\n",
        "        centers = clusterobj.cluster_centers_\n",
        "    \n",
        "    # Cluster 값 종류\n",
        "    unique_labels = np.unique(dataframe[label_name].values)\n",
        "    \n",
        "    markers=['o', 's', '^', 'x', '*']\n",
        "    isNoise=False\n",
        "\n",
        "    for label in unique_labels:\n",
        "        # 군집별 데이터 프레임\n",
        "        label_cluster = dataframe[dataframe[label_name]==label]\n",
        "        \n",
        "        if label == -1:\n",
        "            cluster_legend = 'Noise'\n",
        "            isNoise=True\n",
        "        else:\n",
        "            cluster_legend = 'Cluster '+str(label)\n",
        "        \n",
        "        # 각 군집 시각화\n",
        "        plt.scatter(x=label_cluster['tx'], y=label_cluster['ty'], s=10,\n",
        "                    edgecolor='k', label=cluster_legend)\n",
        "        \n",
        "        # 군집별 중심 위치 시각화\n",
        "        if iscenter:\n",
        "            center_x_y = centers[label]\n",
        "            plt.scatter(x=center_x_y[0], y=center_x_y[1], s=250, color='white',\n",
        "                        alpha=0.9, edgecolor='k')\n",
        "            plt.scatter(x=center_x_y[0], y=center_x_y[1], s=70, color='k',\\\n",
        "                        edgecolor='k', marker='$%d$' % label)\n",
        "    \n",
        "    if isNoise:\n",
        "        legend_loc='upper center'\n",
        "    else: \n",
        "        legend_loc='upper right'\n",
        "    \n",
        "    plt.legend(loc=legend_loc)\n",
        "    plt.figure(figsize=(10,10))\n",
        "    plt.show()"
      ],
      "metadata": {
        "id": "tTbNGtaNg1Ty"
      },
      "execution_count": null,
      "outputs": []
    },
    {
      "cell_type": "code",
      "source": [
        "# GMM\n",
        "gmm = GaussianMixture(n_components=10, random_state=0)\n",
        "gmm_label = gmm.fit_predict(X_aniso)\n",
        "\n",
        "# 군집 레이블 추가\n",
        "cluster_df[\"gmm_label\"] = gmm_label\n",
        "\n",
        "# GMM은 cluster_centers_ 속성이 없음\n",
        "visualize_cluster_plot(gmm, cluster_df, 'gmm_label',iscenter=False)"
      ],
      "metadata": {
        "id": "WBU-kQpwg8Zf"
      },
      "execution_count": null,
      "outputs": []
    }
  ]
}